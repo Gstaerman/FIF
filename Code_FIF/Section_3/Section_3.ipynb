{
 "cells": [
  {
   "cell_type": "markdown",
   "metadata": {},
   "source": [
    "# The examples of section 3 \n",
    "## You just need to run the entire notebook."
   ]
  },
  {
   "cell_type": "markdown",
   "metadata": {},
   "source": [
    "## Importing libraries : "
   ]
  },
  {
   "cell_type": "code",
   "execution_count": 1,
   "metadata": {},
   "outputs": [],
   "source": [
    "import os\n",
    "import csv\n",
    "from sklearn.metrics import auc, roc_curve, roc_auc_score\n",
    "import pandas as pd\n",
    "import matplotlib.pyplot as plt\n",
    "import matplotlib\n",
    "\n",
    "from FIF import *"
   ]
  },
  {
   "cell_type": "code",
   "execution_count": 2,
   "metadata": {},
   "outputs": [],
   "source": [
    "np.random.seed(42)\n",
    "m =100\n",
    "n =100\n",
    "tps = np.linspace(0,1,m)\n",
    "v = np.linspace(1,1.4,n)\n",
    "X = np.zeros((n,m))\n",
    "for i in range(n):\n",
    "    X[i] = 30 * ((1-tps) ** v[i]) * tps ** v[i]\n",
    "\n",
    "    \n",
    "Z1 = np.zeros((m))\n",
    "for j in range(m):\n",
    "    if (tps[j]<0.2 or tps[j]>0.8):\n",
    "        Z1[j] = 30 * ((1-tps[j]) ** 1.2) * tps[j] ** 1.2 \n",
    "    else:\n",
    "        Z1[j] = 30 * ((1-tps[j]) ** 1.2) * tps[j] ** 1.2 + np.random.normal(0,0.3,1)\n",
    "Z1[0] = 0\n",
    "Z1[m-1] = 0\n",
    "\n",
    "\n",
    "Z2 = 30 * ((1-tps) ** 1.6) * tps ** 1.6\n",
    "\n",
    "\n",
    "Z3 = np.zeros((m))\n",
    "for j in range(m):\n",
    "    Z3[j] = 30 * ((1-tps[j]) ** 1.2) * tps[j] ** 1.2 + np.sin(2*np.pi*tps[j])\n",
    "    \n",
    "Z4 = np.zeros((m))\n",
    "for j in range(m):\n",
    "    Z4[j] = 30 * ((1-tps[j]) ** 1.2) * tps[j] ** 1.2\n",
    "    \n",
    "for j in range(70,71):\n",
    "    Z4[j] += 2\n",
    "    \n",
    "Z5 = np.zeros((m))\n",
    "for j in range(m):\n",
    "    Z5[j] = 30 * ((1-tps[j]) ** 1.2) * tps[j] ** 1.2 + 0.5*np.sin(10*np.pi*tps[j])\n",
    "    \n",
    "X = np.concatenate((X,Z1.reshape(1,-1),Z2.reshape(1,-1),  \n",
    "                     Z3.reshape(1,-1), Z4.reshape(1,-1), Z5.reshape(1,-1)), axis = 0)\n",
    "\n"
   ]
  },
  {
   "cell_type": "code",
   "execution_count": 6,
   "metadata": {},
   "outputs": [],
   "source": [
    "X = X_train"
   ]
  },
  {
   "cell_type": "code",
   "execution_count": 12,
   "metadata": {},
   "outputs": [],
   "source": [
    "np.random.seed(42)\n",
    "F1 = FIForest(X, ntrees=500, time = time,\n",
    "              subsample_size= 10, \n",
    "            D= 'gaussian_wavelets', innerproduct= \"auto\",\n",
    "              alpha = 1, criterion=\"sample\")"
   ]
  },
  {
   "cell_type": "code",
   "execution_count": 8,
   "metadata": {},
   "outputs": [
    {
     "data": {
      "text/plain": [
       "(16, 1639)"
      ]
     },
     "execution_count": 8,
     "metadata": {},
     "output_type": "execute_result"
    }
   ],
   "source": [
    "X.shape\n"
   ]
  },
  {
   "cell_type": "code",
   "execution_count": 19,
   "metadata": {},
   "outputs": [],
   "source": [
    "liste1 = np.linspace(-4,4,3)\n",
    "#[-4, -2, 0, 2, 4]\n",
    "liste2 = np.linspace(0.2,1,50)\n",
    "#[0.2, 0.4, 0.6, 0.8, 1]"
   ]
  },
  {
   "cell_type": "code",
   "execution_count": 20,
   "metadata": {},
   "outputs": [],
   "source": [
    "a = F1.out_of_bag(liste1, liste2)"
   ]
  },
  {
   "cell_type": "code",
   "execution_count": 15,
   "metadata": {},
   "outputs": [
    {
     "data": {
      "text/plain": [
       "array([-4.,  0.,  4.])"
      ]
     },
     "execution_count": 15,
     "metadata": {},
     "output_type": "execute_result"
    }
   ],
   "source": [
    "liste1"
   ]
  },
  {
   "cell_type": "code",
   "execution_count": 75,
   "metadata": {},
   "outputs": [
    {
     "data": {
      "text/plain": [
       "array([[1.35969733, 1.28079046, 1.29737308, 1.40671762, 1.38764087,\n",
       "        1.3673687 , 1.40020759, 1.44231006, 1.31853666, 1.39049315,\n",
       "        1.26107036, 1.32343398, 1.38698979, 1.315538  , 1.39554153,\n",
       "        1.35291373, 1.36858201, 1.37096129, 1.39164213],\n",
       "       [1.31543251, 1.44576851, 1.52182617, 1.39196621, 1.37242454,\n",
       "        1.41112774, 1.38511097, 1.500067  , 1.45472346, 1.44248223,\n",
       "        1.35691718, 1.44017502, 1.41254668, 1.39410751, 1.39857815,\n",
       "        1.33329419, 1.41109075, 1.41091544, 1.42754371]])"
      ]
     },
     "execution_count": 75,
     "metadata": {},
     "output_type": "execute_result"
    }
   ],
   "source": [
    "a"
   ]
  },
  {
   "cell_type": "code",
   "execution_count": null,
   "metadata": {},
   "outputs": [],
   "source": [
    "for i in range(len(liste1)-1):\n",
    "    plt.scatter(np.repeat(liste1[i],len(liste2)), liste2, s=a[i]**15, c='r')\n"
   ]
  },
  {
   "cell_type": "code",
   "execution_count": null,
   "metadata": {},
   "outputs": [
    {
     "data": {
      "text/plain": [
       "<matplotlib.collections.PathCollection at 0x1cb8ca36a0>"
      ]
     },
     "execution_count": 21,
     "metadata": {},
     "output_type": "execute_result"
    },
    {
     "data": {
      "image/png": "[encoded data removed]",
      "text/plain": [
       "<Figure size 432x288 with 1 Axes>"
      ]
     },
     "metadata": {
      "needs_background": "light"
     },
     "output_type": "display_data"
    }
   ],
   "source": [
    "plt.scatter(liste2[1:] , a[0])"
   ]
  },
  {
   "cell_type": "code",
   "execution_count": null,
   "metadata": {},
   "outputs": [
    {
     "data": {
      "text/plain": [
       "<matplotlib.collections.PathCollection at 0x1cb8d8ea20>"
      ]
     },
     "execution_count": 22,
     "metadata": {},
     "output_type": "execute_result"
    }
   ],
   "source": [
    "plt.scatter(liste2[1:] , a[1])"
   ]
  },
  {
   "cell_type": "code",
   "execution_count": null,
   "metadata": {},
   "outputs": [],
   "source": [
    "F1.Subsample_index_complementary[0]"
   ]
  },
  {
   "cell_type": "code",
   "execution_count": null,
   "metadata": {},
   "outputs": [],
   "source": [
    "F1.Subsample_index[0]"
   ]
  },
  {
   "cell_type": "code",
   "execution_count": null,
   "metadata": {},
   "outputs": [],
   "source": [
    "os.chdir('../Datasets')\n",
    "X_trainz = pd.read_csv('ECG5000_Train.csv', header = None)\n",
    "X_train = np.array(X_trainz, dtype= float )[:,1:]\n",
    "y_train = np.array(X_trainz, dtype= int )[:,0]\n",
    "time = np.linspace(0,1,X_train.shape[1])\n",
    "os.chdir('../Section_3')"
   ]
  },
  {
   "cell_type": "code",
   "execution_count": null,
   "metadata": {},
   "outputs": [],
   "source": [
    "plt.figure(num=None, figsize=(6, 4), dpi=80, facecolor='w', edgecolor='k')\n",
    "for i in range(len(y_train)):\n",
    "    if (y_train[i] == 1):\n",
    "        plt.plot(time, X_train[i,:],c=\"b\",linewidth = 0.5)\n",
    "    elif(y_train[i] == -1):\n",
    "        plt.plot(time, X_train[i,:],c=\"r\",linewidth = 0.5)\n"
   ]
  },
  {
   "cell_type": "code",
   "execution_count": null,
   "metadata": {},
   "outputs": [],
   "source": [
    "X = X_train"
   ]
  },
  {
   "cell_type": "code",
   "execution_count": null,
   "metadata": {},
   "outputs": [],
   "source": [
    "np.random.seed(42)\n",
    "F1 = FIForest(X, ntrees=100, time = tps, subsample_size= X.shape[0], \n",
    "            D= 'cosinus', innerproduct= \"auto\", alpha = 1, criterion=\"sample\")"
   ]
  },
  {
   "cell_type": "code",
   "execution_count": null,
   "metadata": {},
   "outputs": [],
   "source": [
    "a, b, c = F1.get_Dictionary_information()\n",
    "b = np.array(b)"
   ]
  },
  {
   "cell_type": "code",
   "execution_count": null,
   "metadata": {},
   "outputs": [],
   "source": [
    "ampl = np.zeros((len(c)))\n",
    "freq = np.zeros((len(c)))\n",
    "for i in range(len(c)):\n",
    "    ampl[i] = c[i][0]\n",
    "    freq[i] = c[i][1]"
   ]
  },
  {
   "cell_type": "code",
   "execution_count": null,
   "metadata": {},
   "outputs": [],
   "source": [
    "plt.scatter(ampl,b, s=0.2)\n",
    "plt.show()"
   ]
  },
  {
   "cell_type": "code",
   "execution_count": null,
   "metadata": {},
   "outputs": [],
   "source": [
    "freq"
   ]
  },
  {
   "cell_type": "code",
   "execution_count": null,
   "metadata": {},
   "outputs": [],
   "source": [
    "np.argsort(freq)"
   ]
  },
  {
   "cell_type": "code",
   "execution_count": null,
   "metadata": {},
   "outputs": [],
   "source": [
    "plt.scatter(freq,b,s=0.2)\n",
    "plt.show()"
   ]
  },
  {
   "cell_type": "code",
   "execution_count": null,
   "metadata": {},
   "outputs": [],
   "source": [
    "b.shape"
   ]
  },
  {
   "cell_type": "code",
   "execution_count": null,
   "metadata": {},
   "outputs": [],
   "source": [
    "e = -1\n",
    "d = 1\n",
    "\n",
    "coup =25\n",
    "z = np.linspace(e,d,coup+1)\n",
    "m = np.zeros(coup)\n",
    "\n",
    "for k in range(coup):\n",
    "\n",
    "    m[k] = np.mean(b[ np.where(np.array([z[k] < x < z[k+1] for x in ampl], dtype=int) == 1)[0]])\n"
   ]
  },
  {
   "cell_type": "code",
   "execution_count": null,
   "metadata": {},
   "outputs": [],
   "source": [
    "def running_mean(x, N):\n",
    "    cumsum = np.cumsum(x) \n",
    "    return (cumsum[N:] - cumsum[:-N]) / float(N)"
   ]
  },
  {
   "cell_type": "code",
   "execution_count": null,
   "metadata": {},
   "outputs": [],
   "source": [
    "plt.plot(np.linspace(0,1,coup),m)"
   ]
  },
  {
   "cell_type": "code",
   "execution_count": null,
   "metadata": {},
   "outputs": [],
   "source": [
    "N=1000\n",
    "plt.plot(np.linspace(0,1,len(b)-N), running_mean(b[np.argsort(ampl)],N))"
   ]
  },
  {
   "cell_type": "code",
   "execution_count": null,
   "metadata": {},
   "outputs": [],
   "source": [
    "N=1500\n",
    "plt.plot(np.linspace(0,1,len(b)-N), running_mean(b[np.argsort(freq)],N))"
   ]
  },
  {
   "cell_type": "code",
   "execution_count": null,
   "metadata": {},
   "outputs": [],
   "source": [
    "running_mean(m,N).shape"
   ]
  },
  {
   "cell_type": "code",
   "execution_count": null,
   "metadata": {},
   "outputs": [],
   "source": [
    "e = 0\n",
    "d = 10\n",
    "coup =10\n",
    "z = np.linspace(e,d,coup+1)\n",
    "m = np.zeros(coup)\n",
    "\n",
    "for k in range(coup):\n",
    "    m[k] = np.mean(b[ np.where(np.array([z[k] < x < z[k+1] for x in freq], dtype=int) == 1)[0]])\n"
   ]
  },
  {
   "cell_type": "code",
   "execution_count": null,
   "metadata": {},
   "outputs": [],
   "source": [
    "plt.plot(np.linspace(e,d,coup),m)"
   ]
  },
  {
   "cell_type": "code",
   "execution_count": null,
   "metadata": {},
   "outputs": [],
   "source": [
    "for i in range(100):\n",
    "    plt.plot(a[i])"
   ]
  },
  {
   "cell_type": "code",
   "execution_count": null,
   "metadata": {},
   "outputs": [],
   "source": [
    "b"
   ]
  },
  {
   "cell_type": "code",
   "execution_count": null,
   "metadata": {},
   "outputs": [],
   "source": [
    "\n",
    "for i in range(len(ampl)):\n",
    "    plt.scatter(ampl[i],freq[i], s=b[i], c='r' )"
   ]
  },
  {
   "cell_type": "markdown",
   "metadata": {},
   "source": [
    "# Direction importance:"
   ]
  },
  {
   "cell_type": "markdown",
   "metadata": {},
   "source": [
    "### Constructing Dyadic dictionary by hand:"
   ]
  },
  {
   "cell_type": "code",
   "execution_count": null,
   "metadata": {},
   "outputs": [],
   "source": [
    "def dyadic(J_max=7, m=100):\n",
    "    a =0\n",
    "    t = np.linspace(0,1,m)\n",
    "    D = np.zeros((np.sum(np.power(2,np.arange(J_max))),m))\n",
    "    for J in range(J_max):\n",
    "        b = np.power(2,J)\n",
    "        for k in range(b):\n",
    "            for l in range(m):\n",
    "                x = b * t[l] - k\n",
    "                D[a,l] = 1 * (0 <= x < 1)\n",
    "            a += 1\n",
    "    return D"
   ]
  },
  {
   "cell_type": "markdown",
   "metadata": {},
   "source": [
    "### Importing dataset:"
   ]
  },
  {
   "cell_type": "code",
   "execution_count": 3,
   "metadata": {},
   "outputs": [],
   "source": [
    "os.chdir('../Datasets')\n",
    "X_trainz = pd.read_csv('CinECGTorso_Train.csv', header = None)\n",
    "X_train = np.array(X_trainz, dtype= float )[:,1:]\n",
    "y_train = np.array(X_trainz, dtype= int )[:,0]\n",
    "time = np.linspace(0,1,X_train.shape[1])\n",
    "os.chdir('../Section_3')"
   ]
  },
  {
   "cell_type": "markdown",
   "metadata": {},
   "source": [
    "### Plotting the dataset:"
   ]
  },
  {
   "cell_type": "code",
   "execution_count": 61,
   "metadata": {},
   "outputs": [
    {
     "data": {
      "image/png": "[encoded data removed]",
      "text/plain": [
       "<Figure size 480x320 with 1 Axes>"
      ]
     },
     "metadata": {},
     "output_type": "display_data"
    }
   ],
   "source": [
    "plt.figure(num=None, figsize=(6, 4), dpi=80, facecolor='w', edgecolor='k')\n",
    "for i in range(len(y_train)):\n",
    "    if (y_train[i] == 1):\n",
    "        plt.plot(time, X_train[i,:],c=\"b\",linewidth = 0.5)\n",
    "    elif(y_train[i] == -1):\n",
    "        plt.plot(time, X_train[i,:],c=\"r\",linewidth = 0.5)\n"
   ]
  },
  {
   "cell_type": "markdown",
   "metadata": {},
   "source": [
    "### Applying FIF:"
   ]
  },
  {
   "cell_type": "code",
   "execution_count": null,
   "metadata": {},
   "outputs": [],
   "source": [
    "np.random.seed(42)\n",
    "D1 = dyadic(6, m=X_train.shape[1])\n",
    "F1 = FIForest(X_train, ntrees=100, time = time, subsample_size= X_train.shape[0], \n",
    "            D= D1, innerproduct= \"auto\", alpha = 1, criterion=\"sample\")\n",
    "b = F1.importance_feature()"
   ]
  },
  {
   "cell_type": "markdown",
   "metadata": {},
   "source": [
    "### Plotting the histogram of feature importance:"
   ]
  },
  {
   "cell_type": "code",
   "execution_count": null,
   "metadata": {},
   "outputs": [],
   "source": [
    "plt.figure(figsize=(6,4))\n",
    "plt.bar( np.arange(len(b)), height= np.flip(np.sort(b)), color='r' )\n",
    "#plt.savefig('feature_importance.pdf')\n",
    "plt.show()"
   ]
  },
  {
   "cell_type": "markdown",
   "metadata": {},
   "source": [
    "### Plotting the two best directions:"
   ]
  },
  {
   "cell_type": "code",
   "execution_count": null,
   "metadata": {},
   "outputs": [],
   "source": [
    "plt.figure(figsize=(6,4))\n",
    "plt.plot(time, D1[np.flip(np.argsort(b))[0]], c='g')\n",
    "plt.plot(time, D1[np.flip(np.argsort(b))[1]], c='orange')\n",
    "plt.show()"
   ]
  },
  {
   "cell_type": "markdown",
   "metadata": {},
   "source": [
    "# The example with different kind of anomaly:"
   ]
  },
  {
   "cell_type": "markdown",
   "metadata": {},
   "source": [
    "### Constructing the dataset :"
   ]
  },
  {
   "cell_type": "code",
   "execution_count": null,
   "metadata": {},
   "outputs": [],
   "source": [
    "np.random.seed(42)\n",
    "m =100\n",
    "n =100\n",
    "tps = np.linspace(0,1,m)\n",
    "v = np.linspace(1,1.4,n)\n",
    "X = np.zeros((n,m))\n",
    "for i in range(n):\n",
    "    X[i] = 30 * ((1-tps) ** v[i]) * tps ** v[i]\n",
    "\n",
    "    \n",
    "Z1 = np.zeros((m))\n",
    "for j in range(m):\n",
    "    if (tps[j]<0.2 or tps[j]>0.8):\n",
    "        Z1[j] = 30 * ((1-tps[j]) ** 1.2) * tps[j] ** 1.2 \n",
    "    else:\n",
    "        Z1[j] = 30 * ((1-tps[j]) ** 1.2) * tps[j] ** 1.2 + np.random.normal(0,0.3,1)\n",
    "Z1[0] = 0\n",
    "Z1[m-1] = 0\n",
    "\n",
    "\n",
    "Z2 = 30 * ((1-tps) ** 1.6) * tps ** 1.6\n",
    "\n",
    "\n",
    "Z3 = np.zeros((m))\n",
    "for j in range(m):\n",
    "    Z3[j] = 30 * ((1-tps[j]) ** 1.2) * tps[j] ** 1.2 + np.sin(2*np.pi*tps[j])\n",
    "    \n",
    "Z4 = np.zeros((m))\n",
    "for j in range(m):\n",
    "    Z4[j] = 30 * ((1-tps[j]) ** 1.2) * tps[j] ** 1.2\n",
    "    \n",
    "for j in range(70,71):\n",
    "    Z4[j] += 2\n",
    "    \n",
    "Z5 = np.zeros((m))\n",
    "for j in range(m):\n",
    "    Z5[j] = 30 * ((1-tps[j]) ** 1.2) * tps[j] ** 1.2 + 0.5*np.sin(10*np.pi*tps[j])\n",
    "    \n",
    "X = np.concatenate((X,Z1.reshape(1,-1),Z2.reshape(1,-1),  \n",
    "                     Z3.reshape(1,-1), Z4.reshape(1,-1), Z5.reshape(1,-1)), axis = 0)\n",
    "\n"
   ]
  },
  {
   "cell_type": "markdown",
   "metadata": {},
   "source": [
    "### Applying FIF :"
   ]
  },
  {
   "cell_type": "code",
   "execution_count": null,
   "metadata": {},
   "outputs": [],
   "source": [
    "# Sobolev scalar product and Gaussian wavelets dictionary :\n",
    "np.random.seed(42)\n",
    "F3  = FIForest(X, D=\"gaussian_wavelets\", time=tps, innerproduct=\"auto\", alpha=0.5)\n",
    "S3  = F3.compute_paths()"
   ]
  },
  {
   "cell_type": "markdown",
   "metadata": {},
   "source": [
    "### Plotting the dataset :"
   ]
  },
  {
   "cell_type": "code",
   "execution_count": null,
   "metadata": {},
   "outputs": [],
   "source": [
    "plt.figure(figsize=(6,4))\n",
    "for i in range(100):\n",
    "    plt.plot(tps, X[i], c='Lightgray', linewidth=0.3)\n",
    "    \n",
    "plt.plot(tps,Z4,c='orange', label='$x_0$', linewidth=0.6)\n",
    "\n",
    "plt.plot(tps,Z2,c='b', label='$x_1$', linewidth=0.6)\n",
    "plt.plot(tps,Z3,c='g', label='$x_2$', linewidth=0.6)\n",
    "plt.plot(tps,Z1,c='r', label='$x_3$', linewidth=0.6)\n",
    "plt.plot(tps,Z5,c='m', label='$x_4$', linewidth=0.6)\n",
    "\n",
    "plt.legend()\n",
    "plt.ylabel('x(t)',size='15')\n",
    "plt.xlabel('Time',size=15)\n",
    "#plt.savefig('anomaly_example.pdf')\n",
    "plt.show()"
   ]
  },
  {
   "cell_type": "markdown",
   "metadata": {},
   "source": [
    "### Plotting the sorted dataset :"
   ]
  },
  {
   "cell_type": "code",
   "execution_count": null,
   "metadata": {},
   "outputs": [],
   "source": [
    "colors = [ matplotlib.cm.plasma_r(x)\n",
    "            for x in np.linspace(0, 1, len(S3)) ]\n",
    "plt.figure(figsize=(6,4))\n",
    "for j in range(0,len(colors)):\n",
    "    plt.plot(tps, X[np.argsort(S3)[j],:], '-', c=colors[j], zorder=1, linewidth = 0.6)\n",
    "    #plt.xlabel('Time')\n",
    "    #plt.ylabel('x(t)')\n",
    "    #plt.title('Alpha = 1', size=20)\n",
    "\n",
    "  \n",
    "    \n",
    "sm = plt.cm.ScalarMappable(cmap=matplotlib.cm.viridis_r,\n",
    " \n",
    "                                   norm=plt.Normalize(vmin=0, vmax=1))\n",
    "plt.yticks([]) \n",
    "sm._A = []\n",
    "#plt.savefig('anomaly_example_rank.pdf')\n",
    "plt.show()"
   ]
  },
  {
   "cell_type": "markdown",
   "metadata": {},
   "source": [
    "### Plotting the sorted score of the dataset :"
   ]
  },
  {
   "cell_type": "code",
   "execution_count": null,
   "metadata": {},
   "outputs": [],
   "source": [
    "fig= plt.figure(figsize=(6,4))\n",
    "ax = fig.add_subplot(111)\n",
    "for i in range(len(S3)-5):\n",
    "    ax.scatter(np.arange(len(S3))[i],np.sort(S3)[i], color='Lightgray', marker='x',alpha=0.5)\n",
    "\n",
    "ax.scatter(100, np.sort(S3)[100], color='orange', marker='x', label='$x_0$')\n",
    "ax.scatter(101, np.sort(S3)[101], c='b', marker='x', label='$x_1$')\n",
    "ax.scatter(102, np.sort(S3)[102], c='g', marker='x',  label='$x_2$')\n",
    "ax.scatter(103, np.sort(S3)[103], c='r', marker='x', label='$x_3$')\n",
    "ax.scatter(104, np.sort(S3)[104], c='m', marker='x', label='$x_4$')\n",
    "\n",
    "ax.set_xlabel('Index of sorted curves',size=15)\n",
    "ax.yaxis.tick_right()\n",
    "\n",
    "ax.yaxis.set_label_position(\"right\")\n",
    "ax.set_ylabel('Score',size=15)\n",
    "ax.legend(fontsize='large')\n",
    "#plt.savefig(\"anomaly_example_score.pdf\")\n",
    "plt.show()"
   ]
  },
  {
   "cell_type": "code",
   "execution_count": null,
   "metadata": {},
   "outputs": [],
   "source": []
  }
 ],
 "metadata": {
  "kernelspec": {
   "display_name": "Python 3",
   "language": "python",
   "name": "python3"
  },
  "language_info": {
   "codemirror_mode": {
    "name": "ipython",
    "version": 3
   },
   "file_extension": ".py",
   "mimetype": "text/x-python",
   "name": "python",
   "nbconvert_exporter": "python",
   "pygments_lexer": "ipython3",
   "version": "3.7.1"
  }
 },
 "nbformat": 4,
 "nbformat_minor": 2
}
